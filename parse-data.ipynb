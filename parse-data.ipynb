{
 "cells": [
  {
   "cell_type": "code",
   "execution_count": 58,
   "id": "f93f20ba-d73d-4c73-aa30-3f390adc431f",
   "metadata": {},
   "outputs": [],
   "source": [
    "import csv\n",
    "import pandas as pd"
   ]
  },
  {
   "cell_type": "code",
   "execution_count": 59,
   "id": "65fac699-6ff8-4d2b-b8a3-fff58dfde18b",
   "metadata": {},
   "outputs": [],
   "source": [
    "def getDataFromCsv(path: str) -> pd.DataFrame.dtypes:\n",
    "    dataset = pd.read_csv(path)\n",
    "    return dataset"
   ]
  },
  {
   "cell_type": "code",
   "execution_count": 60,
   "id": "e7dc781a-4a97-4022-93d9-11fc24287c2e",
   "metadata": {},
   "outputs": [],
   "source": [
    "def getDataFromCsv(path: str) -> pd.DataFrame.dtypes:\n",
    "    dataset = pd.read_csv(path)\n",
    "    return dataset"
   ]
  },
  {
   "cell_type": "code",
   "execution_count": 64,
   "id": "10f20ea1-531e-4b40-b0d5-721d2e772cd5",
   "metadata": {},
   "outputs": [],
   "source": [
    "def showData(dataset: pd.DataFrame.dtypes, columns: list = [] ) -> pd.DataFrame.dtypes:\n",
    "    if len(columns) == 0:\n",
    "        return dataset\n",
    "    return dataset[columns]"
   ]
  },
  {
   "cell_type": "code",
   "execution_count": 65,
   "id": "8f5d4dec-e65e-41dd-8cde-46eacf9b309d",
   "metadata": {},
   "outputs": [],
   "source": [
    "def getTitles(dataset: pd.DataFrame.dtypes) -> list:\n",
    "    return dataset.columns.tolist()"
   ]
  },
  {
   "cell_type": "code",
   "execution_count": 67,
   "id": "a3e8d66b-028b-4d91-af4f-0eb53b2661be",
   "metadata": {},
   "outputs": [
    {
     "data": {
      "text/html": [
       "<div>\n",
       "<style scoped>\n",
       "    .dataframe tbody tr th:only-of-type {\n",
       "        vertical-align: middle;\n",
       "    }\n",
       "\n",
       "    .dataframe tbody tr th {\n",
       "        vertical-align: top;\n",
       "    }\n",
       "\n",
       "    .dataframe thead th {\n",
       "        text-align: right;\n",
       "    }\n",
       "</style>\n",
       "<table border=\"1\" class=\"dataframe\">\n",
       "  <thead>\n",
       "    <tr style=\"text-align: right;\">\n",
       "      <th></th>\n",
       "      <th>name</th>\n",
       "      <th>score</th>\n",
       "    </tr>\n",
       "  </thead>\n",
       "  <tbody>\n",
       "    <tr>\n",
       "      <th>0</th>\n",
       "      <td>Sousou no Frieren</td>\n",
       "      <td>9.36</td>\n",
       "    </tr>\n",
       "    <tr>\n",
       "      <th>1</th>\n",
       "      <td>Steins;Gate</td>\n",
       "      <td>9.07</td>\n",
       "    </tr>\n",
       "    <tr>\n",
       "      <th>2</th>\n",
       "      <td>Fullmetal Alchemist: Brotherhood</td>\n",
       "      <td>9.09</td>\n",
       "    </tr>\n",
       "    <tr>\n",
       "      <th>3</th>\n",
       "      <td>Gintama°</td>\n",
       "      <td>9.06</td>\n",
       "    </tr>\n",
       "    <tr>\n",
       "      <th>4</th>\n",
       "      <td>Shingeki no Kyojin Season 3 Part 2</td>\n",
       "      <td>9.05</td>\n",
       "    </tr>\n",
       "    <tr>\n",
       "      <th>...</th>\n",
       "      <td>...</td>\n",
       "      <td>...</td>\n",
       "    </tr>\n",
       "    <tr>\n",
       "      <th>2018</th>\n",
       "      <td>Chobits</td>\n",
       "      <td>7.40</td>\n",
       "    </tr>\n",
       "    <tr>\n",
       "      <th>2019</th>\n",
       "      <td>Bokutachi no Remake</td>\n",
       "      <td>7.40</td>\n",
       "    </tr>\n",
       "    <tr>\n",
       "      <th>2020</th>\n",
       "      <td>Akazukin Chacha</td>\n",
       "      <td>7.40</td>\n",
       "    </tr>\n",
       "    <tr>\n",
       "      <th>2021</th>\n",
       "      <td>Yao Shen Ji 4th Season</td>\n",
       "      <td>7.40</td>\n",
       "    </tr>\n",
       "    <tr>\n",
       "      <th>2022</th>\n",
       "      <td>Wu Geng Ji Zhi Tianqi</td>\n",
       "      <td>7.40</td>\n",
       "    </tr>\n",
       "  </tbody>\n",
       "</table>\n",
       "<p>2023 rows × 2 columns</p>\n",
       "</div>"
      ],
      "text/plain": [
       "                                    name  score\n",
       "0                      Sousou no Frieren   9.36\n",
       "1                            Steins;Gate   9.07\n",
       "2       Fullmetal Alchemist: Brotherhood   9.09\n",
       "3                               Gintama°   9.06\n",
       "4     Shingeki no Kyojin Season 3 Part 2   9.05\n",
       "...                                  ...    ...\n",
       "2018                             Chobits   7.40\n",
       "2019                 Bokutachi no Remake   7.40\n",
       "2020                     Akazukin Chacha   7.40\n",
       "2021              Yao Shen Ji 4th Season   7.40\n",
       "2022               Wu Geng Ji Zhi Tianqi   7.40\n",
       "\n",
       "[2023 rows x 2 columns]"
      ]
     },
     "execution_count": 67,
     "metadata": {},
     "output_type": "execute_result"
    }
   ],
   "source": [
    "topanime = getDataFromCsv(\"./datasets/toprankedanime.csv\")\n",
    "\n",
    "showData(topanime, [\"name\", \"score\"])"
   ]
  },
  {
   "cell_type": "code",
   "execution_count": 44,
   "id": "af380d47-a901-4628-89ac-e59d11888260",
   "metadata": {},
   "outputs": [
    {
     "data": {
      "text/plain": [
       "['name',\n",
       " 'type',\n",
       " 'episodes',\n",
       " 'status',\n",
       " 'aired',\n",
       " 'premiered',\n",
       " 'broadcast',\n",
       " 'producers',\n",
       " 'licensors',\n",
       " 'studios',\n",
       " 'source',\n",
       " 'genres',\n",
       " 'duration',\n",
       " 'rating',\n",
       " 'score',\n",
       " 'ranked',\n",
       " 'popularity',\n",
       " 'favorites']"
      ]
     },
     "execution_count": 44,
     "metadata": {},
     "output_type": "execute_result"
    }
   ],
   "source": [
    "getTitles(topanime)"
   ]
  },
  {
   "cell_type": "code",
   "execution_count": null,
   "id": "80f07537-8b1f-4597-963f-20c2b567772f",
   "metadata": {},
   "outputs": [],
   "source": []
  }
 ],
 "metadata": {
  "kernelspec": {
   "display_name": "Python 3 (ipykernel)",
   "language": "python",
   "name": "python3"
  },
  "language_info": {
   "codemirror_mode": {
    "name": "ipython",
    "version": 3
   },
   "file_extension": ".py",
   "mimetype": "text/x-python",
   "name": "python",
   "nbconvert_exporter": "python",
   "pygments_lexer": "ipython3",
   "version": "3.11.7"
  }
 },
 "nbformat": 4,
 "nbformat_minor": 5
}
