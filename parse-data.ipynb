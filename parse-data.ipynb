{
 "cells": [
  {
   "cell_type": "code",
   "execution_count": 33,
   "id": "f93f20ba-d73d-4c73-aa30-3f390adc431f",
   "metadata": {},
   "outputs": [],
   "source": [
    "import csv\n",
    "import pandas as pd"
   ]
  },
  {
   "cell_type": "code",
   "execution_count": 34,
   "id": "65fac699-6ff8-4d2b-b8a3-fff58dfde18b",
   "metadata": {},
   "outputs": [],
   "source": [
    "def getDataFromCsv(path: str) -> pd.DataFrame.dtypes:\n",
    "    dataset = pd.read_csv(path)\n",
    "    return dataset"
   ]
  },
  {
   "cell_type": "code",
   "execution_count": 35,
   "id": "e7dc781a-4a97-4022-93d9-11fc24287c2e",
   "metadata": {},
   "outputs": [],
   "source": [
    "def getDataFromCsv(path: str) -> pd.DataFrame.dtypes:\n",
    "    dataset = pd.read_csv(path)\n",
    "    return dataset"
   ]
  },
  {
   "cell_type": "code",
   "execution_count": 36,
   "id": "10f20ea1-531e-4b40-b0d5-721d2e772cd5",
   "metadata": {},
   "outputs": [],
   "source": [
    "def showData(dataset: pd.DataFrame.dtypes) -> pd.DataFrame.dtypes:\n",
    "    return dataset\n",
    "    "
   ]
  },
  {
   "cell_type": "code",
   "execution_count": 37,
   "id": "a3e8d66b-028b-4d91-af4f-0eb53b2661be",
   "metadata": {},
   "outputs": [
    {
     "ename": "TypeError",
     "evalue": "showData() missing 1 required positional argument: 'dataset'",
     "output_type": "error",
     "traceback": [
      "\u001b[0;31m---------------------------------------------------------------------------\u001b[0m",
      "\u001b[0;31mTypeError\u001b[0m                                 Traceback (most recent call last)",
      "Cell \u001b[0;32mIn[37], line 2\u001b[0m\n\u001b[1;32m      1\u001b[0m topanime \u001b[38;5;241m=\u001b[39m getDataFromCsv(\u001b[38;5;124m\"\u001b[39m\u001b[38;5;124m./datasets/toprankedanime.csv\u001b[39m\u001b[38;5;124m\"\u001b[39m)\n\u001b[0;32m----> 2\u001b[0m \u001b[43mshowData\u001b[49m\u001b[43m(\u001b[49m\u001b[43m)\u001b[49m\n",
      "\u001b[0;31mTypeError\u001b[0m: showData() missing 1 required positional argument: 'dataset'"
     ]
    }
   ],
   "source": [
    "topanime = getDataFromCsv(\"./datasets/toprankedanime.csv\")\n",
    "showData(topanime)"
   ]
  },
  {
   "cell_type": "code",
   "execution_count": null,
   "id": "af380d47-a901-4628-89ac-e59d11888260",
   "metadata": {},
   "outputs": [],
   "source": []
  }
 ],
 "metadata": {
  "kernelspec": {
   "display_name": "Python 3 (ipykernel)",
   "language": "python",
   "name": "python3"
  },
  "language_info": {
   "codemirror_mode": {
    "name": "ipython",
    "version": 3
   },
   "file_extension": ".py",
   "mimetype": "text/x-python",
   "name": "python",
   "nbconvert_exporter": "python",
   "pygments_lexer": "ipython3",
   "version": "3.11.7"
  }
 },
 "nbformat": 4,
 "nbformat_minor": 5
}
